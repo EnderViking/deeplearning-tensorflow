{
 "cells": [
  {
   "cell_type": "markdown",
   "metadata": {},
   "source": [
    "## <center>循环神经网络</center>"
   ]
  },
  {
   "cell_type": "markdown",
   "metadata": {},
   "source": [
    "### 1 循环神经网络介绍\n",
    "举个例子,很多课文我们可以顺序背诵,而不能倒序背诵.这种现象可以理解为我们大脑并不是简单的存储,而是链式的,有序的存储.这种存储方式很节省存储空间,对于中间状态的序列,没有直接记住,而是记住了计算方法.\n",
    "<center><img src='./img/7/1.png' width='600'/></center>"
   ]
  },
  {
   "cell_type": "markdown",
   "metadata": {},
   "source": [
    "### 2 RNN实现退位减法器"
   ]
  },
  {
   "cell_type": "markdown",
   "metadata": {},
   "source": [
    "#### (1) 建立基本函数"
   ]
  },
  {
   "cell_type": "code",
   "execution_count": 1,
   "metadata": {
    "collapsed": true
   },
   "outputs": [],
   "source": [
    "import numpy as np\n",
    "import copy\n",
    "np.random.seed(0)"
   ]
  },
  {
   "cell_type": "code",
   "execution_count": 2,
   "metadata": {
    "collapsed": true
   },
   "outputs": [],
   "source": [
    "# 定义 sigmoid 函数\n",
    "def sigmoid(x):\n",
    "    output = 1./(1+np.exp(-x))\n",
    "    return output\n",
    "# 定义 sigmoid 函数的导数\n",
    "def sigmoid_derivative(output):\n",
    "    return output*(1.-output)"
   ]
  },
  {
   "cell_type": "markdown",
   "metadata": {},
   "source": [
    "#### (2)建立二进制映射"
   ]
  },
  {
   "cell_type": "code",
   "execution_count": 3,
   "metadata": {
    "collapsed": true
   },
   "outputs": [],
   "source": [
    "# 构建一个这样的字典:{0:00000000,1:00000001,2:00000010,...,255:11111111}\n",
    "int2binary = {}\n",
    "binary_dim = 8\n",
    "largest_number = np.power(2,binary_dim)\n",
    "binary = np.unpackbits(np.array([range(largest_number)],dtype=np.uint8).T,axis=1)\n",
    "for i in range(largest_number):\n",
    "    int2binary[i] = binary[i]"
   ]
  },
  {
   "cell_type": "markdown",
   "metadata": {},
   "source": [
    "#### (3)定义参数"
   ]
  },
  {
   "cell_type": "markdown",
   "metadata": {},
   "source": [
    "定义学习参数:隐含层的权重为 synapse_0,循环节点的权重为 synapse_h(输入节点16,输出节点16),输出层的权重为synapse_1(输入16节点,输出1节点)."
   ]
  },
  {
   "cell_type": "code",
   "execution_count": 4,
   "metadata": {
    "collapsed": true
   },
   "outputs": [],
   "source": [
    "learning_rate = 0.9 # 学习率\n",
    "input_dim = 2       # 输入的维度是2,减数和被减数\n",
    "hidden_dim = 16 \n",
    "output_dim =1       # 输出维度\n",
    "\n",
    "# 初始化网络\n",
    "# 输入维度是2,隐藏维度是16,为了保证初始化参数的范围 [-0.05,0.05]\n",
    "synapse_0 = (2*np.random.random((input_dim,hidden_dim))-1)*0.05\n",
    "synapse_1 = (2*np.random.random((hidden_dim,output_dim))-1)*0.05\n",
    "synapse_h = (2*np.random.random((hidden_dim,hidden_dim))-1)*0.05\n",
    "\n",
    "# 用于存放反向传播的权重更新值\n",
    "synapse_0_update = np.zeros_like(synapse_0)\n",
    "synapse_1_update = np.zeros_like(synapse_1)\n",
    "synapse_h_update = np.zeros_like(synapse_h)"
   ]
  },
  {
   "cell_type": "markdown",
   "metadata": {},
   "source": [
    "#### (4) 准备样本数据"
   ]
  },
  {
   "cell_type": "markdown",
   "metadata": {},
   "source": [
    "大致是这样的过程:\n",
    "+ 建立循环生成样本数据,先生成两个数 a 和 b .如果 a<b 就交换位置.\n",
    "+ 计算出相减的结果 c\n",
    "+ 将三个数转换成二进制."
   ]
  },
  {
   "cell_type": "code",
   "execution_count": 5,
   "metadata": {
    "collapsed": true
   },
   "outputs": [],
   "source": [
    "for j in range(10000):\n",
    "    a_int = np.random.randint(largest_number)\n",
    "    b_int = np.random.randint(largest_number/2)\n",
    "    if a_int < b_int:\n",
    "        t = b_int\n",
    "        b_int = a_int\n",
    "        a_int = t\n",
    "    # 将三个数都转换为对应的二进制\n",
    "    a = int2binary[a_int]\n",
    "    b = int2binary[b_int]\n",
    "    c = int2binary[a_int-b_int]\n",
    "    # 模型初始化输出值为0,初始化总误差为0,由于第一个数据传入是传入时,没有前面的隐含层输出值作为本次\n",
    "    # 样本的输入,所以需要定义一个初始值,这里定义为0.1\n",
    "    d = np.zeros_like(c)\n",
    "    overallError = 0\n",
    "    # 定义 layer_2_deltas 存储反向传播过程中的循环层的误差\n",
    "    layer_2_deltas = list()\n",
    "    # layer_1_values 为隐含层的输出值\n",
    "    layer_1_values = list()\n",
    "    # 一开始没有隐含层,所以初始化一下原始值为0.1\n",
    "    layer_1_values.append(np.ones(hidden_dim)*0.1)"
   ]
  },
  {
   "cell_type": "markdown",
   "metadata": {},
   "source": [
    "#### (5) 正向传播"
   ]
  },
  {
   "cell_type": "markdown",
   "metadata": {},
   "source": [
    "循环遍历每个二进制位,从个位开始依次相减,并将中间隐藏层的输出传入下一个时间步,把每一个时间步的误差导数记录下来,同时统计总误差."
   ]
  },
  {
   "cell_type": "code",
   "execution_count": 6,
   "metadata": {
    "collapsed": true
   },
   "outputs": [],
   "source": [
    "    for position in range(binary_dim):\n",
    "        # 生成输入,从右到左,每次取两个输入数字的一个bit位\n",
    "        x = np.array([[a[binary_dim-position-1],b[binary_dim-position-1]]])\n",
    "        y = np.array([[c[binary_dim-position-1]]]).T\n",
    "        # 隐含层的输入,包含上一步的隐藏层和当层的输入,输入层需要经过sigmoid只有才能相加\n",
    "        # (输入层+之前的隐藏层)->新的隐藏层\n",
    "        layer_1 = sigmoid(np.dot(x,synapse_0)+np.dot(layer_1_values[-1],synapse_h))\n",
    "        layer_2 = sigmoid(np.dot(layer_1,synapse_1))\n",
    "        layer_2_error = y - layer_2\n",
    "        # 当前时间步误差的导数\n",
    "        layer_2_deltas.append(layer_2_error*sigmoid_derivative(layer_2))\n",
    "        overallError += np.abs(layer_2_error[0]) #总误差\n",
    "        # 记录每次预测的bit位\n",
    "        d[binary_dim-position-1] = np.round(layer_2[0][0])\n",
    "        # 将当前的隐藏层保存下来,下个时间序列用\n",
    "        layer_1_values.append(copy.deepcopy(layer_1))"
   ]
  },
  {
   "cell_type": "markdown",
   "metadata": {},
   "source": [
    "#### (6) 反向传播"
   ]
  },
  {
   "cell_type": "markdown",
   "metadata": {},
   "source": [
    "反向传播是从最后一次往前反向计算误差,对于每一个当前的计算都需要下一次结果参与,反向计算从最后一次开始,它没有后一次的输入,所以需要初始化一个值作为其后一次的输入,这里初始化为0"
   ]
  },
  {
   "cell_type": "code",
   "execution_count": 7,
   "metadata": {
    "collapsed": true
   },
   "outputs": [],
   "source": [
    "    future_layer_1_delta = np.zeros(hidden_dim)\n",
    "    # position=[0,1,2,3,4,5,6,7]\n",
    "    for position in range(binary_dim):\n",
    "        # 最后一次的两个输入\n",
    "        x = np.array([[a[position],b[position]]])\n",
    "        # 当前时间点的隐藏层\n",
    "        layer_1 = layer_1_values[-position-1]\n",
    "        # 上一个时间点的隐藏层\n",
    "        pre_layer_1 = layer_1_values[-position-2]\n",
    "        # 当前时间点的输出层误差\n",
    "        layer_2_delta = layer_2_deltas[-position-1]\n",
    "        # 通过后一个时间点的隐藏层误差和当前时间点的输出层误差,计算当前时间点的隐藏层误差\n",
    "        layer_1_delta = (np.dot(future_layer_1_delta,synapse_h.T)+\n",
    "                         np.dot(layer_2_delta,synapse_1.T))*sigmoid_derivative(layer_1)\n",
    "        # 等完成所有反向传播误差计算,才会更新权重矩阵,先暂时把更新矩阵存起来\n",
    "        synapse_1_update += np.atleast_2d(layer_1).T.dot(layer_2_delta)\n",
    "        synapse_h_update += np.atleast_2d(pre_layer_1).T.dot(layer_1_delta)\n",
    "        synapse_0_update += x.T.dot(layer_1_delta)\n",
    "        future_layer_1_delta = layer_1_delta\n",
    "\n",
    "    # 完成所有反向传播之后,更新权重矩阵,并把矩阵变量清零\n",
    "    synapse_0 += synapse_0_update*learning_rate\n",
    "    synapse_1 += synapse_1_update*learning_rate\n",
    "    synapse_h += synapse_h_update*learning_rate\n",
    "    synapse_0_update *= 0\n",
    "    synapse_1_update *= 0\n",
    "    synapse_h_update *= 0"
   ]
  },
  {
   "cell_type": "markdown",
   "metadata": {},
   "source": [
    "#### (7) 代码汇总"
   ]
  },
  {
   "cell_type": "code",
   "execution_count": 8,
   "metadata": {},
   "outputs": [
    {
     "name": "stdout",
     "output_type": "stream",
     "text": [
      "error:[3.99972855]\n",
      "pred:[0 0 0 0 0 0 0 0]\n",
      "true:[0 0 1 1 0 0 1 1]\n",
      "60 - 9 = 0\n",
      "---------\n",
      "error:[2.486562]\n",
      "pred:[0 0 0 0 0 0 0 0]\n",
      "true:[0 0 0 1 0 0 0 1]\n",
      "17 - 0 = 0\n",
      "---------\n",
      "error:[3.51869416]\n",
      "pred:[0 0 1 0 0 1 1 0]\n",
      "true:[0 0 0 1 1 1 1 0]\n",
      "89 - 59 = 38\n",
      "---------\n",
      "error:[0.18361106]\n",
      "pred:[0 0 0 1 1 0 0 0]\n",
      "true:[0 0 0 1 1 0 0 0]\n",
      "43 - 19 = 24\n",
      "---------\n",
      "error:[0.1709148]\n",
      "pred:[0 0 0 0 0 0 1 0]\n",
      "true:[0 0 0 0 0 0 1 0]\n",
      "73 - 71 = 2\n",
      "---------\n",
      "error:[0.13827615]\n",
      "pred:[0 0 1 1 1 1 0 0]\n",
      "true:[0 0 1 1 1 1 0 0]\n",
      "71 - 11 = 60\n",
      "---------\n",
      "error:[0.08982648]\n",
      "pred:[1 0 0 0 0 0 0 0]\n",
      "true:[1 0 0 0 0 0 0 0]\n",
      "230 - 102 = 128\n",
      "---------\n",
      "error:[0.17024705]\n",
      "pred:[0 1 1 1 0 0 0 1]\n",
      "true:[0 1 1 1 0 0 0 1]\n",
      "160 - 47 = 113\n",
      "---------\n",
      "error:[0.06442929]\n",
      "pred:[0 1 0 1 1 0 0 1]\n",
      "true:[0 1 0 1 1 0 0 1]\n",
      "92 - 3 = 89\n",
      "---------\n",
      "error:[0.04940924]\n",
      "pred:[0 0 0 1 1 0 1 1]\n",
      "true:[0 0 0 1 1 0 1 1]\n",
      "44 - 17 = 27\n",
      "---------\n",
      "error:[0.04009697]\n",
      "pred:[1 0 0 1 0 1 1 0]\n",
      "true:[1 0 0 1 0 1 1 0]\n",
      "167 - 17 = 150\n",
      "---------\n",
      "error:[0.06397785]\n",
      "pred:[1 0 0 1 1 0 0 0]\n",
      "true:[1 0 0 1 1 0 0 0]\n",
      "204 - 52 = 152\n",
      "---------\n",
      "error:[0.02595276]\n",
      "pred:[1 1 0 0 0 0 0 0]\n",
      "true:[1 1 0 0 0 0 0 0]\n",
      "209 - 17 = 192\n",
      "---------\n"
     ]
    }
   ],
   "source": [
    "import numpy as np\n",
    "import copy\n",
    "np.random.seed(0)\n",
    "\n",
    "# 定义 sigmoid 函数\n",
    "def sigmoid(x):\n",
    "    output = 1./(1+np.exp(-x))\n",
    "    return output\n",
    "# 定义 sigmoid 函数的导数\n",
    "def sigmoid_derivative(output):\n",
    "    return output*(1.-output)\n",
    "    \n",
    "# 构建一个这样的字典:{0:00000000,1:00000001,2:00000010,...,255:11111111}\n",
    "int2binary = {}\n",
    "binary_dim = 8\n",
    "largest_number = np.power(2,binary_dim)\n",
    "binary = np.unpackbits(np.array([range(largest_number)],dtype=np.uint8).T,axis=1)\n",
    "for i in range(largest_number):\n",
    "    int2binary[i] = binary[i]\n",
    "    \n",
    "learning_rate = 0.9 # 学习率\n",
    "input_dim = 2       # 输入的维度是2,减数和被减数\n",
    "hidden_dim = 16 \n",
    "output_dim =1       # 输出维度\n",
    "\n",
    "# 初始化网络\n",
    "# 输入维度是2,隐藏维度是16,为了保证初始化参数的范围 [-0.05,0.05]\n",
    "synapse_0 = (2*np.random.random((input_dim,hidden_dim))-1)*0.05\n",
    "synapse_1 = (2*np.random.random((hidden_dim,output_dim))-1)*0.05\n",
    "synapse_h = (2*np.random.random((hidden_dim,hidden_dim))-1)*0.05\n",
    "\n",
    "# 用于存放反向传播的权重更新值\n",
    "synapse_0_update = np.zeros_like(synapse_0)\n",
    "synapse_1_update = np.zeros_like(synapse_1)\n",
    "synapse_h_update = np.zeros_like(synapse_h)\n",
    "    \n",
    "for j in range(10000):\n",
    "    a_int = np.random.randint(largest_number)\n",
    "    b_int = np.random.randint(largest_number/2)\n",
    "    if a_int < b_int:\n",
    "        t = b_int\n",
    "        b_int = a_int\n",
    "        a_int = t\n",
    "    # 将三个数都转换为对应的二进制\n",
    "    a = int2binary[a_int]\n",
    "    b = int2binary[b_int]\n",
    "    c = int2binary[a_int-b_int]\n",
    "    # 模型初始化输出值为0,初始化总误差为0,定义 layer_deltas 存储反向传播过程中的循环层的误差,\n",
    "    # layer_values 为隐含层的输出值,由于第一个数据传入是传入时,没有前面的隐含层输出值作为本次\n",
    "    # 样本的输入,所以需要定义一个初始值,这里定义为0.1\n",
    "    d = np.zeros_like(c)\n",
    "    overallError = 0\n",
    "    layer_2_deltas = list()\n",
    "    layer_1_values = list()\n",
    "    # 一开始没有隐含层,所以初始化一下原始值为0.1\n",
    "    layer_1_values.append(np.ones(hidden_dim)*0.1)\n",
    "    \n",
    "    for position in range(binary_dim):\n",
    "        # 生成输入,从右到左,每次取两个输入数字的一个bit位\n",
    "        x = np.array([[a[binary_dim-position-1],b[binary_dim-position-1]]])\n",
    "        y = np.array([[c[binary_dim-position-1]]]).T\n",
    "        # 隐含层的输入,包含上一步的隐藏层和当层的输入,输入层需要经过sigmoid只有才能相加\n",
    "        # (输入层+之前的隐藏层)->新的隐藏层\n",
    "        layer_1 = sigmoid(np.dot(x,synapse_0)+np.dot(layer_1_values[-1],synapse_h))\n",
    "        layer_2 = sigmoid(np.dot(layer_1,synapse_1))\n",
    "        layer_2_error = y - layer_2\n",
    "        layer_2_deltas.append(layer_2_error*sigmoid_derivative(layer_2))\n",
    "        overallError += np.abs(layer_2_error[0]) #总误差\n",
    "        # 记录每次预测的bit位\n",
    "        d[binary_dim-position-1] = np.round(layer_2[0][0])\n",
    "        # 将当前的隐藏层保存下来,下个时间序列用\n",
    "        layer_1_values.append(copy.deepcopy(layer_1))\n",
    "    \n",
    "    future_layer_1_delta = np.zeros(hidden_dim)\n",
    "    # position=[0,1,2,3,4,5,6,7]\n",
    "    for position in range(binary_dim):\n",
    "        # 最后一次的两个输入\n",
    "        x = np.array([[a[position],b[position]]])\n",
    "        # 当前时间点的隐藏层\n",
    "        layer_1 = layer_1_values[-position-1]\n",
    "        # 上一个时间点的隐藏层\n",
    "        pre_layer_1 = layer_1_values[-position-2]\n",
    "        # 当前时间点的输出层误差\n",
    "        layer_2_delta = layer_2_deltas[-position-1]\n",
    "        # 通过后一个时间点的隐藏层误差和当前时间点的输出层误差,计算当前时间点的隐藏层误差\n",
    "        layer_1_delta = (np.dot(future_layer_1_delta,synapse_h.T)+\n",
    "                         np.dot(layer_2_delta,synapse_1.T))*sigmoid_derivative(layer_1)\n",
    "        # 等完成所有反向传播误差计算,才会更新权重矩阵,先暂时把更新矩阵存起来\n",
    "        synapse_1_update += np.atleast_2d(layer_1).T.dot(layer_2_delta)\n",
    "        synapse_h_update += np.atleast_2d(pre_layer_1).T.dot(layer_1_delta)\n",
    "        synapse_0_update += x.T.dot(layer_1_delta)\n",
    "        future_layer_1_delta = layer_1_delta\n",
    "\n",
    "    # 完成所有反向传播之后,更新权重矩阵,并把矩阵变量清零\n",
    "    synapse_0 += synapse_0_update*learning_rate\n",
    "    synapse_1 += synapse_1_update*learning_rate\n",
    "    synapse_h += synapse_h_update*learning_rate\n",
    "    synapse_0_update *= 0\n",
    "    synapse_1_update *= 0\n",
    "    synapse_h_update *= 0\n",
    "    \n",
    "    if j%800 == 0:\n",
    "        print(\"error:\"+str(overallError))\n",
    "        print(\"pred:\"+str(d))\n",
    "        print(\"true:\"+str(c))\n",
    "        out = 0\n",
    "        for index,x in enumerate(reversed(d)):\n",
    "            out += x*pow(2,index)\n",
    "        print(str(a_int)+\" - \"+str(b_int)+\" = \"+str(out))\n",
    "        print(\"---------\")"
   ]
  },
  {
   "cell_type": "markdown",
   "metadata": {},
   "source": [
    "### 3 使用RNN网络拟合回声信号序列"
   ]
  },
  {
   "cell_type": "markdown",
   "metadata": {},
   "source": [
    "#### (1) 定义参数生成样本数据"
   ]
  },
  {
   "cell_type": "code",
   "execution_count": 9,
   "metadata": {
    "collapsed": true
   },
   "outputs": [],
   "source": [
    "import numpy as np\n",
    "import tensorflow as tf\n",
    "import matplotlib.pyplot as plt"
   ]
  },
  {
   "cell_type": "code",
   "execution_count": 10,
   "metadata": {
    "collapsed": true
   },
   "outputs": [],
   "source": [
    "num_epochs = 5\n",
    "state_size = 4\n",
    "num_classes = 2\n",
    "echo_step = 3\n",
    "# 每个样本的大小是 15 bit\n",
    "truncated_backprop_length = 15\n",
    "# 每个 batch 大小为5\n",
    "batch_size = 5\n",
    "# 每个 epoch 有 1000 个batch\n",
    "num_batches = 1000\n",
    "total_series_length = num_batches * batch_size * truncated_backprop_length\n",
    "\n",
    "def generateData():\n",
    "    # 在0和1中选择 total_series_length 个数\n",
    "    x = np.array(np.random.choice(2,total_series_length,p=[0.5,0.5]))\n",
    "    # 向右循环移位\n",
    "    y = np.roll(x,echo_step)\n",
    "    # 只有在第一个样本中,前 echo_step 才会用0 填充.\n",
    "    y[:echo_step]=0\n",
    "    # 生成 5,10000,将一个长序列截断成 batch_size 个短序列\n",
    "    x = x.reshape((batch_size,-1))\n",
    "    y = y.reshape((batch_size,-1))\n",
    "    return (x,y)"
   ]
  },
  {
   "cell_type": "markdown",
   "metadata": {},
   "source": [
    "#### (2) 定义占位符处理输入数据"
   ]
  },
  {
   "cell_type": "code",
   "execution_count": 11,
   "metadata": {
    "collapsed": true
   },
   "outputs": [],
   "source": [
    "# 输入的数据应该是 (5,15)\n",
    "input_x = tf.placeholder(dtype=tf.float32,shape=[batch_size,truncated_backprop_length])\n",
    "input_y = tf.placeholder(dtype=tf.int32,shape=[batch_size,truncated_backprop_length])\n",
    "# 每个RNN中隐含单元个数,输入的数据应该为(5,4)\n",
    "init_state = tf.placeholder(dtype=tf.float32,shape=[batch_size,state_size])\n",
    "# 将 input_x 沿维度为1的轴方向进行拆分,变成了(15,5)\n",
    "# 在 RNN 网络中,都需要变成(timesteps,batch_size),这样才能在同一个神经元上,\n",
    "# 处理所有batch中同一个位置的元素,例如这里有 15 个 timesteps,每个timesteps 上的神经元,\n",
    "# 会处理所有batch中相同位置的数据,这样才能让batch中的数据并行处理.\n",
    "inputs_series = tf.unstack(input_x,axis=1)\n",
    "labels_series = tf.unstack(input_y,axis=1)"
   ]
  },
  {
   "cell_type": "markdown",
   "metadata": {},
   "source": [
    "#### (3) 定义网络结构"
   ]
  },
  {
   "cell_type": "code",
   "execution_count": 12,
   "metadata": {
    "collapsed": true
   },
   "outputs": [],
   "source": [
    "current_state = init_state\n",
    "predictions_series = []\n",
    "losses = []\n",
    "# 使用循环,按照序列逐个输入\n",
    "for current_input,labels in zip(inputs_series,labels_series):\n",
    "    current_input = tf.reshape(current_input,shape=[batch_size,1])\n",
    "    # 加入初始状态,拼接之后变成了(5,5)\n",
    "    input_and_state_concatenated = tf.concat([current_input,current_state],axis=1)\n",
    "    next_state = tf.contrib.layers.fully_connected(input_and_state_concatenated,state_size,\n",
    "                                                   activation_fn=tf.tanh)\n",
    "    # 用于下一个时间步的循环输入\n",
    "    current_state = next_state\n",
    "    # 计算当前时间步的输出,由于要使用交叉熵计算,所以这一步没有激活\n",
    "    logits = tf.contrib.layers.fully_connected(next_state,num_classes,activation_fn=None)\n",
    "    loss = tf.nn.sparse_softmax_cross_entropy_with_logits(labels=labels,logits=logits)\n",
    "    losses.append(loss)\n",
    "    # 经过激活之后的预测结果\n",
    "    predictions = tf.nn.softmax(logits)\n",
    "    predictions_series.append(predictions)\n",
    "total_loss = tf.reduce_mean(losses)\n",
    "optimizer = tf.train.AdadeltaOptimizer(learning_rate=0.3).minimize(total_loss)"
   ]
  },
  {
   "cell_type": "markdown",
   "metadata": {},
   "source": [
    "#### (4) 建立session训练数据"
   ]
  },
  {
   "cell_type": "code",
   "execution_count": 13,
   "metadata": {},
   "outputs": [
    {
     "data": {
      "text/plain": [
       "<matplotlib.figure.Figure at 0x7fe5e02e2c10>"
      ]
     },
     "metadata": {},
     "output_type": "display_data"
    },
    {
     "name": "stdout",
     "output_type": "stream",
     "text": [
      "('new data,epoch', 0)\n",
      "('step', 0, 'loss', 0.71180636)\n",
      "('step', 100, 'loss', 0.639124)\n",
      "('step', 200, 'loss', 0.68469185)\n",
      "('step', 300, 'loss', 0.7073374)\n",
      "('step', 400, 'loss', 0.6616962)\n",
      "('step', 500, 'loss', 0.7085965)\n",
      "('step', 600, 'loss', 0.6887149)\n",
      "('step', 700, 'loss', 0.62540907)\n",
      "('step', 800, 'loss', 0.64126164)\n",
      "('step', 900, 'loss', 0.63603956)\n",
      "('new data,epoch', 1)\n",
      "('step', 0, 'loss', 0.646995)\n",
      "('step', 100, 'loss', 0.6365148)\n",
      "('step', 200, 'loss', 0.6521179)\n",
      "('step', 300, 'loss', 0.559955)\n",
      "('step', 400, 'loss', 0.61287266)\n",
      "('step', 500, 'loss', 0.6528964)\n",
      "('step', 600, 'loss', 0.5983753)\n",
      "('step', 700, 'loss', 0.5994922)\n",
      "('step', 800, 'loss', 0.58720785)\n",
      "('step', 900, 'loss', 0.629052)\n",
      "('new data,epoch', 2)\n",
      "('step', 0, 'loss', 0.6460512)\n",
      "('step', 100, 'loss', 0.59902585)\n",
      "('step', 200, 'loss', 0.5881509)\n",
      "('step', 300, 'loss', 0.57848835)\n",
      "('step', 400, 'loss', 0.58026725)\n",
      "('step', 500, 'loss', 0.56838244)\n",
      "('step', 600, 'loss', 0.5646521)\n",
      "('step', 700, 'loss', 0.563715)\n",
      "('step', 800, 'loss', 0.52514285)\n",
      "('step', 900, 'loss', 0.5793882)\n",
      "('new data,epoch', 3)\n",
      "('step', 0, 'loss', 0.59425783)\n",
      "('step', 100, 'loss', 0.58070356)\n",
      "('step', 200, 'loss', 0.5479414)\n",
      "('step', 300, 'loss', 0.54294765)\n",
      "('step', 400, 'loss', 0.52500063)\n",
      "('step', 500, 'loss', 0.53866494)\n",
      "('step', 600, 'loss', 0.5688551)\n",
      "('step', 700, 'loss', 0.54916054)\n",
      "('step', 800, 'loss', 0.50466484)\n",
      "('step', 900, 'loss', 0.5373346)\n",
      "('new data,epoch', 4)\n",
      "('step', 0, 'loss', 0.5205644)\n",
      "('step', 100, 'loss', 0.4701446)\n",
      "('step', 200, 'loss', 0.52406234)\n",
      "('step', 300, 'loss', 0.51425534)\n",
      "('step', 400, 'loss', 0.5281304)\n",
      "('step', 500, 'loss', 0.47898456)\n",
      "('step', 600, 'loss', 0.51262176)\n",
      "('step', 700, 'loss', 0.52861524)\n",
      "('step', 800, 'loss', 0.48797444)\n",
      "('step', 900, 'loss', 0.46427485)\n"
     ]
    },
    {
     "data": {
      "image/png": "[encoded data removed]",
      "text/plain": [
       "<matplotlib.figure.Figure at 0x7fe5df2c57d0>"
      ]
     },
     "metadata": {},
     "output_type": "display_data"
    }
   ],
   "source": [
    "def plot(loss_list,predictions_series,batch_x,batch_y):\n",
    "    plt.subplot(2,3,1)\n",
    "    plt.cla()\n",
    "    plt.plot(loss_list)\n",
    "    for batch_series_idx in range(batch_size):\n",
    "        one_hot_output_series = np.array(predictions_series)[:,batch_series_idx,:]\n",
    "        single_output_series = np.array([(1 if out[0]<0.5 else 0) for out \n",
    "                                         in one_hot_output_series])\n",
    "        plt.subplot(2,3,batch_series_idx+2)\n",
    "        plt.cla()\n",
    "        plt.axis([0,truncated_backprop_length,0,2])\n",
    "        left_offset = range(truncated_backprop_length)\n",
    "        left_offset2 = range(echo_step,truncated_backprop_length+echo_step)\n",
    "        label1 = \"past values\"\n",
    "        label2 = \"true echo values\"\n",
    "        label3 = \"predicetions\"\n",
    "        plt.plot(left_offset2,batch_x[batch_series_idx,:]*0.2+1.5,'o--b',label=label1)\n",
    "        plt.plot(left_offset,batch_y[batch_series_idx,:]*0.2+0.8,'x--b',label=label2)\n",
    "        plt.plot(left_offset,single_output_series*0.2+0.1,'o--y',label=label3)\n",
    "    plt.legend(loc='best')\n",
    "    plt.draw()\n",
    "    plt.pause(0.0001)\n",
    "    \n",
    "with tf.Session() as sess:\n",
    "    sess.run(tf.global_variables_initializer())\n",
    "    plt.ion()\n",
    "    plt.figure()\n",
    "    plt.show()\n",
    "    loss_list = []\n",
    "    for epoch_idx in range(num_epochs):\n",
    "        xs,ys = generateData()\n",
    "        print(\"new data,epoch\",epoch_idx)\n",
    "        # 初始化第一个隐含状态,这里使用0作为默认初始化\n",
    "        _current_state = np.zeros((batch_size,state_size),dtype=np.float32)\n",
    "        for batch_idx in range(num_batches):\n",
    "            start_idx = batch_idx * truncated_backprop_length\n",
    "            end_idx = start_idx + truncated_backprop_length\n",
    "            # 每个样本序列长度为15,batch_size 为5,所以 batch_x 的形状为(5,15)\n",
    "            batch_x = xs[:,start_idx:end_idx]\n",
    "            batch_y = ys[:,start_idx:end_idx]\n",
    "            _total_loss,_optimizer,_state,_predictions_series = sess.run([\n",
    "                total_loss,optimizer,current_state,predictions_series],feed_dict={input_x:batch_x,input_y:batch_y,\n",
    "                                                                                  init_state:_current_state})\n",
    "            _current_state = _state\n",
    "            loss_list.append(_total_loss)\n",
    "            if batch_idx %100 == 0:\n",
    "                print(\"step\",batch_idx,\"loss\",_total_loss)\n",
    "                plot(loss_list,_predictions_series,batch_x,batch_y)\n",
    "    plt.ioff()\n",
    "    plt.show()\n",
    "            "
   ]
  }
 ],
 "metadata": {
  "kernelspec": {
   "display_name": "Python 2",
   "language": "python",
   "name": "python2"
  },
  "language_info": {
   "codemirror_mode": {
    "name": "ipython",
    "version": 2
   },
   "file_extension": ".py",
   "mimetype": "text/x-python",
   "name": "python",
   "nbconvert_exporter": "python",
   "pygments_lexer": "ipython2",
   "version": "2.7.13"
  }
 },
 "nbformat": 4,
 "nbformat_minor": 2
}
