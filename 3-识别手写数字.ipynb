{
 "cells": [
  {
   "cell_type": "markdown",
   "metadata": {},
   "source": [
    "## <center>识别手写数字</center>"
   ]
  },
  {
   "cell_type": "markdown",
   "metadata": {},
   "source": [
    "### 1 导入图片数据集"
   ]
  },
  {
   "cell_type": "code",
   "execution_count": 2,
   "metadata": {},
   "outputs": [
    {
     "name": "stdout",
     "output_type": "stream",
     "text": [
      "Extracting data/mnist/train-images-idx3-ubyte.gz\n",
      "Extracting data/mnist/train-labels-idx1-ubyte.gz\n",
      "Extracting data/mnist/t10k-images-idx3-ubyte.gz\n",
      "Extracting data/mnist/t10k-labels-idx1-ubyte.gz\n"
     ]
    }
   ],
   "source": [
    "from tensorflow.examples.tutorials.mnist import input_data\n",
    "mnist = input_data.read_data_sets(\"data/mnist/\",one_hot = True)"
   ]
  },
  {
   "cell_type": "markdown",
   "metadata": {},
   "source": [
    "### 2 分析图片特点,定义变量"
   ]
  },
  {
   "cell_type": "code",
   "execution_count": 11,
   "metadata": {
    "collapsed": true
   },
   "outputs": [],
   "source": [
    "import tensorflow as tf\n",
    "import numpy as np"
   ]
  },
  {
   "cell_type": "code",
   "execution_count": 12,
   "metadata": {
    "collapsed": true
   },
   "outputs": [],
   "source": [
    "# 第一个维度为 None 代表其可以表示成任何维度\n",
    "x = tf.placeholder(dtype=tf.float32,shape=[None,784])\n",
    "y = tf.placeholder(dtype=tf.float32,shape=[None,10])"
   ]
  },
  {
   "cell_type": "markdown",
   "metadata": {},
   "source": [
    "### 3 构建模型"
   ]
  },
  {
   "cell_type": "markdown",
   "metadata": {},
   "source": [
    "#### 在Tensorflow中需要学习的参数必须使用变量定义,这样才能在学习过程中不断的修改"
   ]
  },
  {
   "cell_type": "code",
   "execution_count": 22,
   "metadata": {
    "collapsed": true
   },
   "outputs": [],
   "source": [
    "# 构建网络结构\n",
    "W = tf.Variable(initial_value=tf.random_normal(shape=[784,10]),dtype=tf.float32)\n",
    "b = tf.Variable(initial_value=tf.zeros(shape=[10]),dtype=tf.float32)\n",
    "pred = tf.nn.softmax(tf.matmul(x,W)+b)\n",
    "\n",
    "# 定义反向传播,也可以直接使用tensorflow自带的计算交叉熵函数\n",
    "cost = tf.reduce_mean(-tf.reduce_sum(y*tf.log(pred),axis=1))\n",
    "\n",
    "# 对模型进行优化\n",
    "learning_rate = 0.01\n",
    "optimizer = tf.train.GradientDescentOptimizer(learning_rate=learning_rate).minimize(cost)"
   ]
  },
  {
   "cell_type": "markdown",
   "metadata": {},
   "source": [
    "### 4 训练模型并输出中间状态"
   ]
  },
  {
   "cell_type": "code",
   "execution_count": 25,
   "metadata": {},
   "outputs": [
    {
     "name": "stdout",
     "output_type": "stream",
     "text": [
      "epochs: 1 loss: 7.729152079495514 acc: 0.3427\n",
      "epochs: 2 loss: 4.028207823579961 acc: 0.5014\n",
      "epochs: 3 loss: 2.8754381921074574 acc: 0.5874\n",
      "epochs: 4 loss: 2.3164105317809387 acc: 0.6387\n",
      "epochs: 5 loss: 1.9908532051606613 acc: 0.6739\n",
      "epochs: 6 loss: 1.769937646497378 acc: 0.7014\n",
      "epochs: 7 loss: 1.6100857554782522 acc: 0.723\n",
      "epochs: 8 loss: 1.4947048268534908 acc: 0.7391\n",
      "epochs: 9 loss: 1.397896141247314 acc: 0.751\n",
      "epochs: 10 loss: 1.3236682890761984 acc: 0.7617\n",
      "epochs: 11 loss: 1.2612161347540956 acc: 0.7709\n",
      "epochs: 12 loss: 1.20629999773069 acc: 0.778\n",
      "epochs: 13 loss: 1.1647410599210046 acc: 0.7847\n",
      "epochs: 14 loss: 1.122847738916223 acc: 0.7907\n",
      "epochs: 15 loss: 1.0894494733485314 acc: 0.7964\n",
      "epochs: 16 loss: 1.0581394695693793 acc: 0.801\n",
      "epochs: 17 loss: 1.0336562488295817 acc: 0.8059\n",
      "epochs: 18 loss: 1.0050076006488373 acc: 0.81\n",
      "epochs: 19 loss: 0.9882025518200616 acc: 0.8136\n",
      "epochs: 20 loss: 0.9623906973817136 acc: 0.8166\n"
     ]
    }
   ],
   "source": [
    "train_epochs = 20\n",
    "batch_size = 100\n",
    "display_step = 1\n",
    "with tf.Session() as sess:\n",
    "    sess.run(tf.global_variables_initializer())\n",
    "    for i in range(train_epochs):\n",
    "        avg_cost = 0.0\n",
    "        total_batch = int(mnist.train.num_examples/batch_size)\n",
    "        for j in range(total_batch):\n",
    "            batch_x,batch_y = mnist.train.next_batch(batch_size)\n",
    "            _,loss = sess.run([optimizer,cost],feed_dict={x:batch_x,y:batch_y})\n",
    "            avg_cost = avg_cost+loss/total_batch\n",
    "        if (i+1)%display_step==0:\n",
    "            # 如果两者最大值索引相等,那么就会该位置就会变成True,否则变成False\n",
    "            correct_prediction = tf.equal(tf.argmax(pred,axis=1),tf.argmax(y,axis=1))\n",
    "            acc = tf.reduce_mean(tf.cast(correct_prediction,dtype=tf.float32))\n",
    "            accuracy = sess.run(acc,feed_dict={x:mnist.test.images,y:mnist.test.labels})\n",
    "            print('epochs:',i+1,'loss:',avg_cost,'acc:',accuracy)\n",
    "            "
   ]
  }
 ],
 "metadata": {
  "kernelspec": {
   "display_name": "Python 3",
   "language": "python",
   "name": "python3"
  },
  "language_info": {
   "codemirror_mode": {
    "name": "ipython",
    "version": 3
   },
   "file_extension": ".py",
   "mimetype": "text/x-python",
   "name": "python",
   "nbconvert_exporter": "python",
   "pygments_lexer": "ipython3",
   "version": "3.5.4"
  }
 },
 "nbformat": 4,
 "nbformat_minor": 2
}
