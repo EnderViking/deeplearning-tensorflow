{
 "cells": [
  {
   "cell_type": "markdown",
   "metadata": {},
   "source": [
    "## <center>处理 Seq2Seq 任务</center>"
   ]
  },
  {
   "cell_type": "markdown",
   "metadata": {},
   "source": [
    "### 1 Seq2Seq 任务介绍\n",
    "seq2seq 任务可以理解为,从一个 sequence 做某些工作映射到另外一个 sequence 的任务. sequence 可以理解为一个字符串序列,在给定一个字符串序列后,希望得到与之对应的另一个字符串序列,如翻译后的,语义上对应的. seq2seq 不关心输入和输出的序列是否长度对应."
   ]
  },
  {
   "cell_type": "markdown",
   "metadata": {},
   "source": [
    "Encoder-Decoder 框架的工作机制是: 先使用 Encoder 将输入映射到语义空间(通过 Encoder 网络生成的特征向量),得到一个固定维数的向量,这个向量就表示输入的语义,然后再使用 Decoder 将这个语义解码,获取需要的输出.\n",
    "<br/><br/>\n",
    "<center><img src=\"./img/13/1.png\" width=\"500\"></center>\n",
    "<br/>\n",
    "在 Encoder-Decoder 框架有两个输入:一个是 $x$ 输入作为 Encoder 的输入,另一个是 $y$ 输入作为 Decoder 输入, $x$ 和 $y$ 依次按照各自的顺序传入网络.从中可以看出,训练过程中,标签 $y$ 既参与计算 loss, 又参与节点运算,而不是像前面学习的其他网络只用来做 loss 监督. 中间隐含节点 C 就是 Encoder 的输出,同时也是 Decoder 中 cell 的初始状态."
   ]
  },
  {
   "cell_type": "markdown",
   "metadata": {},
   "source": [
    "### 2 Tensorflow 中的 seq2seq (旧版)\n",
    "在 Tensorflow 中有两套 Seq2Seq 的接口,一套是 Tensorflow 1.0 版本之前的接口,在 $ tf.contrib.legacy\\_seq2seq$ 下,新版本的接口在 $tf.contrib.seq2seq$ 下,旧接口的功能相对简单,是静态展开的网络模型,而新接口,使用的是动态展开的网络模型,并提供了训练和应用两种场景的 Helper 类封装.从使用角度来看,旧接口简单,新接口更加灵活,需要自己组建 Encoder 和 Decoder 并通过函数把他们手动连接起来.\n",
    "```python\n",
    "tf.contrib.legacy_seq2seq.basic_rnn_seq2seq(encoder_inputs,decoder_inputs,cell,dtype=tf.float32)\n",
    "参数说明如下:\n",
    "+ encoder_inputs: 一个形状为 [batch_size * input_size] 的 list\n",
    "+ decoder_inputs: 一个形状为 [batch_size * input_size] 的 list\n",
    "+ cell: 定义的 cell 网络\n",
    "+ dtype: encoder_inputs 和 decoder_inputs 中的类型,默认是 tf.float32\n",
    "+ 返回值: outputs 和 state.outputs 为 [batch_size,output_size]的张量, state 为 [batch_size,cell.state_size], cell.state_size 可以表示一个或者多个子 cell 状态.\n",
    "```"
   ]
  },
  {
   "cell_type": "markdown",
   "metadata": {},
   "source": [
    "### 3 使用 basic_rnn_seq2seq 拟合曲线\n",
    "通过 sin 与 cos 进行叠加,产生无规律的模型曲线,使用 seq2seq 模式对其进行学习,拟合特征,从而达到可以预测下一时刻数据的效果."
   ]
  },
  {
   "cell_type": "markdown",
   "metadata": {},
   "source": [
    "#### (1) 定义模拟样本函数\n",
    "定义两个曲线 sin 和 cos, 通过随机值将其变形偏移,将两个曲线叠加:"
   ]
  },
  {
   "cell_type": "code",
   "execution_count": 1,
   "metadata": {
    "collapsed": true
   },
   "outputs": [],
   "source": [
    "import tensorflow  as tf\n",
    "import numpy as np\n",
    "import random\n",
    "import math\n",
    "import matplotlib.pyplot as plt"
   ]
  },
  {
   "cell_type": "code",
   "execution_count": 2,
   "metadata": {
    "collapsed": true
   },
   "outputs": [],
   "source": [
    "# 生成训练样本\n",
    "def do_generate_x_y(isTrain,batch_size,seq_len):\n",
    "    batch_x = []\n",
    "    batch_y = []\n",
    "    for _ in range(batch_size):\n",
    "        offset_rand = random.random() * 2 * math.pi\n",
    "        # 随机变换频率和振幅\n",
    "        freq_rand = (random.random() - 0.5)/1.5*15 + 0.5\n",
    "        amp_rand = random.random() + 0.1\n",
    "        \n",
    "        sin_data = amp_rand * np.sin(np.linspace(seq_len/15.0 * freq_rand * 0.0 * math.pi + \n",
    "                                                 offset_rand,seq_len/15.0 * freq_rand * 3.0 * math.pi \n",
    "                                                 + offset_rand,seq_len*2))\n",
    "        offset_rand = random.random() * 2 * math.pi\n",
    "        # 随机变换频率和振幅\n",
    "        freq_rand = (random.random() - 0.5)/1.5*15 + 0.5\n",
    "        amp_rand = random.random()*1.2\n",
    "        \n",
    "        cos_data = amp_rand * np.sin(np.linspace(seq_len/15.0 * freq_rand * 0.0 * math.pi + \n",
    "                                                 offset_rand,seq_len/15.0 * freq_rand * 3.0 * math.pi \n",
    "                                                 + offset_rand,seq_len*2))\n",
    "        add_data = sin_data + cos_data\n",
    "        # 前 seq_len 个数据作为 encoder_inputs , 后 seq_len 个数据作为 decoder_inputs\n",
    "        # 这一步将 add_data 每一个数都拆分出来了\n",
    "        batch_x.append(np.array([add_data[:seq_len]]).T)\n",
    "        batch_y.append(np.array([add_data[seq_len:]]).T)\n",
    "    # 当前 batch_x 的形状为 (batch_size,seq_length,1)\n",
    "    # 当前shape: (batch_size,seq_length,output_dim)\n",
    "    batch_x = np.array(batch_x).transpose((1,0,2))\n",
    "    batch_y = np.array(batch_y).transpose((1,0,2))\n",
    "    # 转换后shape: (seq_length,batch_size,output_dim)\n",
    "    return batch_x,batch_y\n",
    "\n",
    "# 生成 15 个连续序列,将 cos 和 sin 随机偏移变化后的值叠加起来.\n",
    "def generate_data(isTrain,batch_size):\n",
    "    seq_len = 15\n",
    "    if isTrain:\n",
    "        return do_generate_x_y(isTrain,batch_size,seq_len)\n",
    "    else:\n",
    "        return do_generate_x_y(isTrain,batch_size,seq_len*2)"
   ]
  },
  {
   "cell_type": "markdown",
   "metadata": {},
   "source": [
    "将该曲线按照 30 个序列一组的样式组成训练用的样本. 30 个序列分成两部分:一部分当成现在的序列 batch_x,一部分当前未来序列 batch_y"
   ]
  },
  {
   "cell_type": "markdown",
   "metadata": {},
   "source": [
    "#### (2) 定义参数及网络结构\n",
    "前面介绍过 basic_rnn_seq2seq 的输入是一个 list,需要定义三个 list (encoder_input,expected_output,decoder_input), 按照时间顺序的数量来循环创建占位符,并使用 append 方法放到 list 中.\n",
    "\n",
    "网络模型定义为 2 层的循环网络,每层 12 个 GRUCell. 用 MultiRNNCell 将 cell 定义好后与前面的 list 一起传入 basic_rnn_seq2seq 中.\n",
    "\n",
    "生成的结果为 dec_outputs, dec_output 中每个时刻有 12 个 GRUCell 的输出, 所以还需要通过循环在每个时刻下加一个全连接层,将其转为输出维度 output_dim 的节点."
   ]
  },
  {
   "cell_type": "code",
   "execution_count": 3,
   "metadata": {},
   "outputs": [
    {
     "name": "stdout",
     "output_type": "stream",
     "text": [
      "training examples: \n",
      "(15, 10, 1)\n",
      "(seq_length,batch_size,output_dim)\n"
     ]
    }
   ],
   "source": [
    "sample_now,sample_future = generate_data(isTrain=True,batch_size=10)\n",
    "print(\"training examples: \")\n",
    "print(sample_now.shape)\n",
    "print(\"(seq_length,batch_size,output_dim)\")\n",
    "\n",
    "seq_length = sample_now.shape[0]\n",
    "batch_size = 10\n",
    "\n",
    "# 输出维度为 1\n",
    "output_dim = input_dim = sample_now.shape[-1]\n",
    "# 隐含单元数量\n",
    "hidden_dim = 12\n",
    "# encoder 和 decoder 都有两层循环神经网络\n",
    "layers_stacked_count = 2\n",
    "learning_rate = 0.01\n",
    "iters = 1000\n",
    "lambda_l2_reg = 0.003\n",
    "\n",
    "tf.reset_default_graph()\n",
    "\n",
    "encoder_input = []\n",
    "decoder_input = []\n",
    "# 期望输出的标签\n",
    "expected_output = []\n",
    "\n",
    "#　输入的数据都是(seq_length,batch_size,input_dim)\n",
    "for i in range(seq_length):\n",
    "    encoder_input.append(tf.placeholder(dtype=tf.float32,shape=(None,input_dim)))\n",
    "    expected_output.append(tf.placeholder(dtype=tf.float32,shape=(None,output_dim)))\n",
    "    decoder_input.append(tf.placeholder(dtype = tf.float32,shape=(None,input_dim)))\n",
    "\n",
    "# 这里使用的是多层 RNN\n",
    "tcells = []\n",
    "for i in range(layers_stacked_count):\n",
    "    tcells.append(tf.contrib.rnn.GRUCell(num_units=hidden_dim))\n",
    "\n",
    "mcells = tf.contrib.rnn.MultiRNNCell(cells=tcells)\n",
    "# 返回值为(batch_size,hidden_dim),每个 cell 输出都有 hidden_dim 维\n",
    "# 而对应的结果只有一维,所以需要使用一个全连接层将其转换成 1 维\n",
    "decoder_outputs,_ = tf.contrib.legacy_seq2seq.basic_rnn_seq2seq(\n",
    "    encoder_input,decoder_input,mcells,dtype=tf.float32)\n",
    "\n",
    "# 将 batch 中的每一个样本做一次全连接,输出的形状为[batch_size,output_dim], \n",
    "# 这和 expected_output 的形状相同.\n",
    "\n",
    "reshape_outputs = []\n",
    "for i in decoder_outputs:\n",
    "    reshape_outputs.append(tf.contrib.layers.fully_connected(i,output_dim,activation_fn=None))"
   ]
  },
  {
   "cell_type": "markdown",
   "metadata": {},
   "source": [
    "#### (3) 定义 loss 函数及优化器\n",
    "为了防止过拟合,对 basic_rnn_seq2seq 循环网络中的参数使用 l2_loss 正则,由于最后一个全连接只起到转换作用,就忽略不做 l2_loss 正则了(也可以加上,效果没有影响)"
   ]
  },
  {
   "cell_type": "code",
   "execution_count": 4,
   "metadata": {
    "collapsed": true
   },
   "outputs": [],
   "source": [
    "output_loss = 0.0\n",
    "# 计算所有样本的平方损失\n",
    "for pred,label in zip(reshape_outputs,expected_output):\n",
    "    output_loss += tf.reduce_mean(tf.pow(pred-label,2))\n",
    "reg_loss = 0.0\n",
    "# 可以通过这种通用的方式来求 loss 值\n",
    "for var in tf.trainable_variables():\n",
    "    if not (\" full_connected\" in var.name):\n",
    "        reg_loss += tf.reduce_mean(tf.nn.l2_loss(var))\n",
    "loss = output_loss + lambda_l2_reg * reg_loss\n",
    "optimizer = tf.train.AdamOptimizer(learning_rate=learning_rate).minimize(loss)"
   ]
  },
  {
   "cell_type": "markdown",
   "metadata": {},
   "source": [
    "预测结果与真实结果的平方差再加上 l2 的 loss 值,作为输出的 loss 值."
   ]
  },
  {
   "cell_type": "markdown",
   "metadata": {},
   "source": [
    "#### (4) 启动 session 开始训练\n",
    "在 session 中将训练和测试单独封装成两个函数, 在 train_batch 函数里先取指定批次数据,通过循环来填充到 encoder_input 和 expected_output 列表中."
   ]
  },
  {
   "cell_type": "code",
   "execution_count": 5,
   "metadata": {
    "collapsed": true
   },
   "outputs": [],
   "source": [
    "sess = tf.Session()\n",
    "\n",
    "def train_batch(batch_size):\n",
    "    X,Y = generate_data(isTrain=True,batch_size=batch_size)\n",
    "    # 在训练过程中,生成训练数据和预测数据\n",
    "    feed_dict = {encoder_input[t]:X[t] for t in range(len(encoder_input))}\n",
    "    feed_dict.update({expected_output[t]:Y[t] for t in range(len(expected_output))})\n",
    "    # 在 encoder-decoder 模型中,decoder 的输入就是,对应的标签偏移一位\n",
    "    c = np.concatenate(([np.zeros_like(Y[0])],Y[:-1]),axis = 0)\n",
    "    feed_dict.update({decoder_input[t]:c[t] for t in range(len(c))})\n",
    "    _,loss_t = sess.run([optimizer,loss],feed_dict)\n",
    "    return loss_t\n",
    "def test_batch(batch_size):\n",
    "    X,Y = generate_data(isTrain=True,batch_size=batch_size)\n",
    "    feed_dict = {encoder_input[t]:X[t] for t in range(len(encoder_input))}\n",
    "    feed_dict.update({expected_output[t]:Y[t] for t in range(len(expected_output))})\n",
    "    c = np.concatenate(([np.zeros_like(Y[0])],Y[:-1]),axis = 0)\n",
    "    feed_dict.update({decoder_input[t]:c[t] for t in range(len(c))})\n",
    "    _,_,loss_t = sess.run([output_loss,reg_loss,loss],feed_dict)\n",
    "    return loss_t"
   ]
  },
  {
   "cell_type": "code",
   "execution_count": 6,
   "metadata": {},
   "outputs": [
    {
     "name": "stdout",
     "output_type": "stream",
     "text": [
      "step 0/1000, train loss: 6.713342666625977,test loss 7.536297798156738\n",
      "step 50/1000, train loss: 6.005825519561768,test loss 5.387105941772461\n",
      "step 100/1000, train loss: 1.4468157291412354,test loss 1.8448843955993652\n",
      "step 150/1000, train loss: 1.7038979530334473,test loss 1.4632863998413086\n",
      "step 200/1000, train loss: 1.3353617191314697,test loss 1.2313406467437744\n",
      "step 250/1000, train loss: 0.6790565252304077,test loss 0.6825094223022461\n",
      "step 300/1000, train loss: 0.7143903970718384,test loss 0.5490260124206543\n",
      "step 350/1000, train loss: 0.6325218677520752,test loss 0.5446522235870361\n",
      "step 400/1000, train loss: 0.958929181098938,test loss 0.8281480073928833\n",
      "step 450/1000, train loss: 0.5489121675491333,test loss 0.8281764984130859\n",
      "step 500/1000, train loss: 0.39378076791763306,test loss 0.6576919555664062\n",
      "step 550/1000, train loss: 0.5309884548187256,test loss 0.5742244720458984\n",
      "step 600/1000, train loss: 0.5440438985824585,test loss 0.4142976999282837\n",
      "step 650/1000, train loss: 0.4968736171722412,test loss 0.5447340607643127\n",
      "step 700/1000, train loss: 0.427367627620697,test loss 0.40558168292045593\n",
      "step 750/1000, train loss: 0.8620418310165405,test loss 0.49123311042785645\n",
      "step 800/1000, train loss: 0.4541974663734436,test loss 0.41468900442123413\n",
      "step 850/1000, train loss: 0.4184053838253021,test loss 0.48355939984321594\n",
      "step 900/1000, train loss: 0.34963375329971313,test loss 0.3852911591529846\n",
      "step 950/1000, train loss: 0.7625747919082642,test loss 0.5819178819656372\n",
      "step 1000/1000, train loss: 0.32922250032424927,test loss 0.3922896981239319\n"
     ]
    },
    {
     "data": {
      "image/png": "[encoded data removed]",
      "text/plain": [
       "<matplotlib.figure.Figure at 0x7fe847c97400>"
      ]
     },
     "metadata": {},
     "output_type": "display_data"
    }
   ],
   "source": [
    "# 开始训练\n",
    "train_losses = []\n",
    "test_losses = []\n",
    "sess.run(tf.global_variables_initializer())\n",
    "for t in range(iters + 1):\n",
    "    train_loss = train_batch(batch_size)\n",
    "    train_losses.append(train_loss)\n",
    "    if t % 50 == 0:\n",
    "        test_loss = test_batch(batch_size)\n",
    "        test_losses.append(test_loss)\n",
    "        print(\"step {}/{}, train loss: {},test loss {}\".format(t,iters,train_loss,test_loss))\n",
    "plt.figure(figsize=(12,6))\n",
    "plt.plot(np.array(range(0,len(test_losses)))/float(len(test_losses)-1)*(len(train_losses)-1),\n",
    "         np.log(test_losses),label = \"test loss\")\n",
    "plt.plot(np.log(train_losses),label = 'train loss')\n",
    "plt.title(\"training errors over time on a logarithmic scale\")\n",
    "plt.xlabel(\"iteration\")\n",
    "plt.ylabel('log(loss)')\n",
    "plt.legend(loc='best')\n",
    "plt.show()"
   ]
  },
  {
   "cell_type": "markdown",
   "metadata": {},
   "source": [
    "对于 decode_input 的输入要重点说明一下,将其第一个序列的输入变为 0, 作为起始输入的标记,接上后续的 Y 数据(未来序列) 作为解码器 Decoder 来输入, 由于第一个序列被占用了,保证总长度不变的情况下,Y 的最后一个序列没有作为 Decoder 的输入,但是输出时会有未来序列预测的全部序列值,并在计算 loss 时与真实值 Y 进行平方差."
   ]
  },
  {
   "cell_type": "markdown",
   "metadata": {},
   "source": [
    "### 4 基于注意力的 seq2seq"
   ]
  },
  {
   "cell_type": "markdown",
   "metadata": {},
   "source": [
    "#### (1) attention_seq2seq 介绍\n",
    "注意力机制,即在生成每个词时,对不同的输入词给予不同的关注权重,如下图所示,右侧序列为输入序列,上方序列是输出序列.在注意力机制下,对于一个输出网络会自动学习与其对应的输入关系的权重.\n",
    "<center><img src=\"./img/13/2.png\"/></center>\n",
    "<br/>\n",
    "在训练过程中,模型会通过注意力机制把某个输出对应的所有输入列出来,学习其关系并更新到权重上,如上图,\"you\" 对应的一列 (80,5,0,15,0),就是模型在生成 \"you\" 这个词时的概率分布,最大值对应的输入为 \"你\",说明模型生成 \"you\" 时,最关心的输入词是 \"你\". 这样在预测时,该机制就会根据输入及其权重,反向推出其更有可能的预测值了.\n",
    "\n",
    "注意力机制是在原有的 seq2seq 中的 encoder 与 decoder 框架中修改而来,具体结构如下:\n",
    "<center><img src=\"./img/13/3.png\" width=\"600\"/></center>\n",
    "<br/>\n",
    "修改后的模型特点是序列中每个时刻 Encoder 生成的 c,都要参与 Decoder 中解码的各个时刻,而不是只参与初始时刻.当然对于生成的结果节点 c, 参与到 Decoder 的每个序列运算都会经过权重 w,那么这个 w 就可以以 loss 的方式通过优化器来调节了,最终会逐步逼近与它紧密的那个词.添加了 Attention 注意力分配机制后,使得 Decoder 在生成新的 target sequence 时,能得到之前 Encoder 编码阶段每个字符的隐藏层的信息向量 hidden state, 使得新生成的序列准确度提高."
   ]
  },
  {
   "cell_type": "markdown",
   "metadata": {
    "collapsed": true
   },
   "source": [
    "#### (2) Tensorflow 中的 attention_seq2seq\n",
    "在 Tensorflow 中也有关于带注意力机制的 Seq2Seq 定义, 封装后的 Seq2Seq 与前面的 basic_rnn_seq2seq 差不多,具体函数人如下:\n",
    "```python\n",
    "tf.contrib.legacy_seq2seq.embedding_attention_seq2seq(\n",
    "          encoder_inputs,\n",
    "          decoder_inputs,\n",
    "          cell,\n",
    "          num_encoder_symbols,\n",
    "          num_decoder_symbols,\n",
    "          embedding_size,\n",
    "          num_heads = 1,\n",
    "          output_projection = None,\n",
    "          feed_previous = False)\n",
    "                                                        \n",
    "参数说明如下:\n",
    "+ encoder_inputs: 一个形状为 [batch_size] 的 list\n",
    "+ decoder_inputs: 一个形状为 [batch_size] 的 list\n",
    "+ cell: 定义的 cell 网络\n",
    "+ num_encoder_symbols: 输入数据对应的词总个数\n",
    "+ num_decoder_symbols: 输出数据对应的词总个数\n",
    "+ embedding_size: 每个输入对应的词向量编码大小\n",
    "+ num_heads: 从注意力状态里读取的个数\n",
    "+ output_projection: 对输出结果是否进行全连接的维度转化,如果需要转化,则传入全连接对应的 w 和 b\n",
    "+ feed_previous: 为 True 时,表明只有第一个 Decoder 输入以 Go 开始,其他都使用前面的状态,如果为 False 时,每个 Decoder 的输入都会以 Go 开始, Go 为自己定义模型时定义一个起始符,一般用 0 或 1 来表示\n",
    "```"
   ]
  },
  {
   "cell_type": "markdown",
   "metadata": {},
   "source": [
    "#### (3) seq2seq 中桶(bucket) 的实现机制\n",
    "在 seq2seq 模型中,由于输入,输出都是可变长的,这就给计算带来了很大的效率影响,在 tensorflow 中使用一个 \"桶\"(bucket) 的机制来解决这个问题,思想就是初始化几个 bucket,对数据预处理,按照每个序列的长短,将其放在不同的 bucket中,小于 bucket size 部分统一用 0 填充对齐,之后就可以惊醒不同的 bucket 的批处理计算.其定义如下:\n",
    "```python\n",
    "tf.contrib.legacy_seq2seq.model_with_buckets(\n",
    "    encoder_inputs,\n",
    "    decoder_inputs,\n",
    "    targets,\n",
    "    weights,\n",
    "    buckets,\n",
    "    seq2seq,\n",
    "    softmax_loss_function=None,\n",
    "    per_example_loss=False)\n",
    "   \n",
    "参数说明如下:\n",
    "+ encoder_inputs: 一个形状为 [batch_size] 的 list\n",
    "+ decoder_inputs: 一个形状为 [batch_size] 的 list,作为解码器部分的输入\n",
    "+ targets: 最终输出结果的 label\n",
    "+ weights: 传入的权重值,必须与 decoder_inputs 的 size 相同\n",
    "+ buckets: 传入的桶,描述为 [(xx,xx),(xx,xx),...],元组第一个数为输入的size,第二个数为输出的 size\n",
    "+ seq2seq: 带有 seq2seq 结构的网络,以函数名的方式传入,在 seq2seq 里可以载入定义的 cell 网络.\n",
    "+ softmax_loss_function: 是否使用自己指定的 loss 函数\n",
    "+ per_example_loss: 是否对每个样本求 loss\n",
    "```\n"
   ]
  },
  {
   "cell_type": "markdown",
   "metadata": {},
   "source": [
    "### 5 Seq2Seq 注意力模型简单示例"
   ]
  },
  {
   "cell_type": "markdown",
   "metadata": {},
   "source": [
    "#### (1) 数据生成"
   ]
  },
  {
   "cell_type": "code",
   "execution_count": 25,
   "metadata": {
    "collapsed": true
   },
   "outputs": [],
   "source": [
    "def get_batch(inputs, max_sequence_length=None):\n",
    "    \"\"\"\n",
    "    :param inputs: list of sentences (integer lists)\n",
    "    :param max_sequence_length: integer specifying how large should `max_time`\n",
    "                                dimension be.\n",
    "    :return:\n",
    "         inputs_time_major: input sentences transformed into time-major matrix\n",
    "         (shape[max_time, batch_size]) padded with 0s\n",
    "         sequence_lengths: batch-sized list of integers specifying amount of\n",
    "                           active\n",
    "         time steps in each input sequence\n",
    "    \"\"\"\n",
    "\n",
    "    sequence_lengths = [len(seq) for seq in inputs]\n",
    "    batch_size = len(inputs)\n",
    "\n",
    "    if max_sequence_length is None:\n",
    "        max_sequence_length = max(sequence_lengths)\n",
    "\n",
    "    inputs_batch_major = np.zeros(shape=[batch_size, max_sequence_length],\n",
    "                                  dtype=np.int32)\n",
    "\n",
    "    for i, seq in enumerate(inputs):\n",
    "        for j, element in enumerate(seq):\n",
    "            inputs_batch_major[i, j] = element\n",
    "\n",
    "    # [batch_size, max_time] -> [max_time, batch_size]\n",
    "    #\n",
    "    inputs_time_major = inputs_batch_major.swapaxes(0, 1)\n",
    "\n",
    "    return inputs_time_major, sequence_lengths"
   ]
  },
  {
   "cell_type": "code",
   "execution_count": 8,
   "metadata": {
    "collapsed": true
   },
   "outputs": [],
   "source": [
    "def random_sequences(length_from, length_to, vocab_lower, vocab_upper,\n",
    "                     batch_size):\n",
    "    \"\"\"\n",
    "    Generates batches of random integer sequences,\n",
    "    sequence length in [length_from, length_to],\n",
    "    vocabulary in [vocab_lower, vocab_upper]\n",
    "    \"\"\"\n",
    "    if length_from > length_to:\n",
    "        raise ValueError('length_from > length_to')\n",
    "\n",
    "    def random_length():\n",
    "        if length_from == length_to:\n",
    "            return length_from\n",
    "        return np.random.randint(length_from, length_to+1)\n",
    "\n",
    "    while True:\n",
    "        yield [\n",
    "            np.random.randint(low=vocab_lower,\n",
    "                              high=vocab_upper,\n",
    "                              size=random_length()).tolist()\n",
    "            for _ in range(batch_size)\n",
    "        ]"
   ]
  },
  {
   "cell_type": "markdown",
   "metadata": {},
   "source": [
    "#### (2) 构建 Seq2Seq 模型"
   ]
  },
  {
   "cell_type": "code",
   "execution_count": 9,
   "metadata": {
    "collapsed": true
   },
   "outputs": [],
   "source": [
    "class Seq2SeqModel:\n",
    "    def __init__(self):\n",
    "        self.encoder_hidden_unit = 150\n",
    "        self.decoder_hidden_unit = 150\n",
    "        self.max_n_times_in = 3\n",
    "        self.max_n_times_out = 4\n",
    "        self.n_features = 12\n",
    "        self.time_major = True\n",
    "        self.is_attention = False\n",
    "        self.batch_size = 100\n",
    "\n",
    "        self.create_embeddings()\n",
    "        encoder_outputs, encoder_state = self.create_encoder()\n",
    "        decoder_outputs, decoder_state = self.create_decoder(encoder_outputs,\n",
    "                                                             encoder_state)\n",
    "\n",
    "        decoder_logits = self.create_fully_connected_layer(decoder_outputs)\n",
    "        self.loss = self.create_loss(decoder_logits)\n",
    "\n",
    "        self.train_op = self.create_optimizer()\n",
    "        self.summaries()\n",
    "\n",
    "    def create_embeddings(self):\n",
    "        self.encoder_inputs = tf.placeholder(shape=[None, None],\n",
    "                                             dtype=tf.int32,\n",
    "                                             name='encoder_inputs')\n",
    "        self.decoder_inputs = tf.placeholder(shape=[None, None],\n",
    "                                             dtype=tf.int32,\n",
    "                                             name='decoder_inputs')\n",
    "        self.decoder_targets = tf.placeholder(shape=[None, None],\n",
    "                                              dtype=tf.int32,\n",
    "                                              name='decoder_targets')\n",
    "        self.decoder_full_length = tf.placeholder(shape=(None,),\n",
    "                                                  dtype=tf.int32,\n",
    "                                                  name='decoder_full_length')\n",
    "\n",
    "        embeddings = tf.Variable(tf.random_uniform(\n",
    "                                    [self.n_features,\n",
    "                                     self.encoder_hidden_unit],\n",
    "                                    -1.0, 1.0), dtype=tf.float32)\n",
    "\n",
    "        self.encoder_embeddings = tf.nn.embedding_lookup(embeddings,\n",
    "                                                         self.encoder_inputs)\n",
    "        self.decoder_embeddings = tf.nn.embedding_lookup(embeddings,\n",
    "                                                         self.decoder_inputs)\n",
    "        self.decoder_targets_embeddings = tf.one_hot(self.decoder_targets,\n",
    "                                                     self.n_features,\n",
    "                                                     dtype=tf.float32)\n",
    "\n",
    "    def create_encoder(self):\n",
    "        # Build RNN cell\n",
    "        with tf.variable_scope(\"encoder\") as scope:\n",
    "            encoder_cell = tf.contrib.rnn.LSTMCell(self.encoder_hidden_unit)\n",
    "            # encoder_cell = tf.contrib.rnn.GRUCell(self.encoder_hidden_unit)\n",
    "            encoder_outputs, encoder_state = tf.nn.dynamic_rnn(\n",
    "                cell=encoder_cell,\n",
    "                inputs=self.encoder_embeddings,\n",
    "                dtype=tf.float32,\n",
    "                time_major=self.time_major,\n",
    "                swap_memory=True,\n",
    "                scope=scope\n",
    "            )\n",
    "\n",
    "        return encoder_outputs, encoder_state\n",
    "\n",
    "    def create_decoder(self, encoder_outputs, encoder_state):\n",
    "        with tf.variable_scope(\"decoder\") as decoder_scope:\n",
    "            helper = tf.contrib.seq2seq.TrainingHelper(\n",
    "                    self.decoder_embeddings,\n",
    "                    self.decoder_full_length,\n",
    "                    time_major=self.time_major)\n",
    "\n",
    "            if self.is_attention:\n",
    "                decoder_cell = tf.contrib.rnn.LSTMCell(self.decoder_hidden_unit)\n",
    "                # decoder_cell = tf.contrib.rnn.GRUCell(self.decoder_hidden_unit)\n",
    "                if self.time_major:\n",
    "                    # [batch_size, max_time, num_nunits]\n",
    "                    attention_states = tf.transpose(encoder_outputs, [1, 0, 2])\n",
    "                else:\n",
    "                    attention_states = encoder_outputs\n",
    "\n",
    "                attention_mechanism = tf.contrib.seq2seq.LuongAttention(\n",
    "                    self.decoder_hidden_unit, attention_states)\n",
    "\n",
    "                decoder_cell = tf.contrib.seq2seq.AttentionWrapper(\n",
    "                    decoder_cell, attention_mechanism,\n",
    "                    attention_layer_size=self.decoder_hidden_unit)\n",
    "\n",
    "                decoder_initial_state = (\n",
    "                     decoder_cell.zero_state(tf.size(self.decoder_full_length),\n",
    "                                                      dtype=tf.float32).clone(\n",
    "                                                        cell_state=encoder_state))\n",
    "            else:\n",
    "                decoder_cell = tf.contrib.rnn.LSTMCell(self.decoder_hidden_unit)\n",
    "                decoder_initial_state = encoder_state\n",
    "\n",
    "            decoder = tf.contrib.seq2seq.BasicDecoder(\n",
    "                cell=decoder_cell,\n",
    "                helper=helper,\n",
    "                initial_state=decoder_initial_state)\n",
    "\n",
    "            outputs, last_state, _ = tf.contrib.seq2seq.dynamic_decode(decoder, output_time_major=self.time_major)\n",
    "\n",
    "        return outputs.rnn_output, last_state\n",
    "\n",
    "    def create_fully_connected_layer(self, decoder_outputs):\n",
    "        decoder_logits = (tf.contrib.layers.linear(decoder_outputs,\n",
    "                                                   self.n_features))\n",
    "\n",
    "        self.decoder_prediction = tf.argmax(decoder_logits, 2)\n",
    "\n",
    "        return decoder_logits\n",
    "\n",
    "    def create_loss(self, decoder_logits):\n",
    "        stepwise_cross_entropy = tf.nn.softmax_cross_entropy_with_logits(\n",
    "             labels=self.decoder_targets_embeddings,\n",
    "             logits=decoder_logits)\n",
    "\n",
    "        loss = (tf.reduce_mean(stepwise_cross_entropy))\n",
    "        return loss\n",
    "\n",
    "    def create_optimizer(self):\n",
    "        return tf.train.AdamOptimizer().minimize(self.loss)\n",
    "\n",
    "    def summaries(self):\n",
    "        with tf.name_scope(\"sumaries\"):\n",
    "            tf.summary.scalar(\"loss\", self.loss)\n",
    "            tf.summary.histogram(\"histogram_loss\", self.loss)\n",
    "\n",
    "            self.summary_op = tf.summary.merge_all()\n",
    "\n",
    "    def update(self, sess, encoder_inputs,\n",
    "               decoder_inputs, decoder_targets, decoder_full_length):\n",
    "        return sess.run([self.train_op, self.loss, self.summary_op],\n",
    "                        feed_dict={\n",
    "                            self.encoder_inputs: encoder_inputs,\n",
    "                            self.decoder_inputs: decoder_inputs,\n",
    "                            self.decoder_targets: decoder_targets,\n",
    "                            self.decoder_full_length: decoder_full_length})\n",
    "\n",
    "    def predict(self, sess, encoder_inputs,\n",
    "                decoder_inputs, decoder_full_length):\n",
    "        pred = sess.run([self.decoder_prediction],\n",
    "                        feed_dict={self.encoder_inputs: encoder_inputs,\n",
    "                                   self.decoder_inputs: decoder_inputs,\n",
    "                                   self.decoder_full_length: decoder_full_length\n",
    "                                   })\n",
    "\n",
    "        return pred"
   ]
  },
  {
   "cell_type": "markdown",
   "metadata": {},
   "source": [
    "#### (3) 模型使用"
   ]
  },
  {
   "cell_type": "code",
   "execution_count": 10,
   "metadata": {
    "collapsed": true
   },
   "outputs": [],
   "source": [
    "import matplotlib\n",
    "import tensorflow as tf\n",
    "import numpy as np\n",
    "import matplotlib.pyplot as plt"
   ]
  },
  {
   "cell_type": "code",
   "execution_count": 11,
   "metadata": {},
   "outputs": [],
   "source": [
    "seq2seq = Seq2SeqModel()"
   ]
  },
  {
   "cell_type": "code",
   "execution_count": 13,
   "metadata": {},
   "outputs": [
    {
     "name": "stdout",
     "output_type": "stream",
     "text": [
      "batch_encode: \n",
      "[[9 9 9 9 9]\n",
      " [8 8 8 8 8]\n",
      " [7 7 7 7 7]]\n",
      "decoder inputs: \n",
      "[[1 1 1 1 1]\n",
      " [0 0 0 0 0]\n",
      " [0 0 0 0 0]\n",
      " [0 0 0 0 0]]\n",
      "decoder input size: \n",
      "3\n",
      "decoder inpput full length: \n",
      "[4 4 4 4 4]\n",
      "Predict results: \n",
      "[array([[4, 4, 4, 4, 4],\n",
      "       [4, 4, 4, 4, 4],\n",
      "       [4, 4, 4, 4, 4],\n",
      "       [8, 8, 8, 8, 8]])]\n"
     ]
    }
   ],
   "source": [
    "with tf.Session() as sess:\n",
    "    sess.run(tf.global_variables_initializer())\n",
    "    batch_ = [[9,8,7]] *5\n",
    "    \n",
    "    batch_,batch_length_ = batch(batch_)\n",
    "    print(\"batch_encode: \\n\" + str(batch_))\n",
    "    \n",
    "    din_, dlen_ = batch(np.ones(shape=(5,1), dtype=np.int32), max_sequence_length=4)\n",
    "    \n",
    "    print('decoder inputs: \\n' + str(din_))\n",
    "    print('decoder input size: \\n' + str(batch_.shape[0]))\n",
    "    out_length = np.asarray([din_.shape[0]]*din_.shape[1])\n",
    "    print('decoder inpput full length: \\n' + str(out_length))\n",
    "    print('Predict results: \\n' + str(seq2seq.predict(sess, batch_, din_,out_length)))"
   ]
  },
  {
   "cell_type": "code",
   "execution_count": 15,
   "metadata": {},
   "outputs": [
    {
     "name": "stdout",
     "output_type": "stream",
     "text": [
      "head of the batch\n",
      "[5, 4, 2, 5, 4, 4, 4]\n",
      "[3, 6, 2]\n",
      "[5, 3, 3, 9, 8, 8, 8, 6, 6, 7]\n",
      "[7, 5, 6, 8, 3, 9, 7, 7, 9, 9, 3]\n",
      "[3, 4, 3, 2, 9, 8, 2]\n",
      "[3, 9, 3, 8, 7, 8, 9, 7, 6, 3, 6, 8]\n",
      "[3, 2, 3, 9, 2, 8, 2]\n",
      "[6, 2, 2, 9, 4, 5, 8, 7, 3, 5, 7]\n",
      "[7, 7, 5]\n",
      "[9, 9, 7, 9, 4, 5, 5, 8]\n"
     ]
    }
   ],
   "source": [
    "batch_size = 100\n",
    "\n",
    "batches = random_sequences(length_from=3, length_to=12, vocab_lower=2, vocab_upper=10, batch_size=batch_size)\n",
    "print('head of the batch')\n",
    "for seq in next(batches)[:10]:\n",
    "    print(seq)"
   ]
  },
  {
   "cell_type": "code",
   "execution_count": 26,
   "metadata": {
    "collapsed": true
   },
   "outputs": [],
   "source": [
    "EOS = 1\n",
    "\n",
    "def next_feed():\n",
    "    batch = next(batches)\n",
    "    encoder_inputs_, _ = get_batch(batch)\n",
    "    decoder_targets_, _ = get_batch([(sequence)+[EOS] for sequence in batch])\n",
    "    \n",
    "    decoder_inputs_, _ = get_batch([[EOS] + (sequence) for sequence in batch])\n",
    "    \n",
    "    decoder_full_length = np.asarray([decoder_inputs_.shape[0]] * decoder_inputs_.shape[1])\n",
    "    \n",
    "    return encoder_inputs_, decoder_inputs_,decoder_targets_, decoder_full_length"
   ]
  },
  {
   "cell_type": "code",
   "execution_count": 27,
   "metadata": {
    "collapsed": true
   },
   "outputs": [],
   "source": [
    "loss_track = []\n",
    "\n",
    "max_batches = 3001\n",
    "batches_in_epoch = 1000"
   ]
  },
  {
   "cell_type": "code",
   "execution_count": 28,
   "metadata": {},
   "outputs": [
    {
     "name": "stdout",
     "output_type": "stream",
     "text": [
      "batch 0\n",
      "     minibatch loss: 2.593968152999878\n",
      "     sample 1:\n",
      "         input    > [4 8 7 3 5 0 0 0 0 0 0 0]\n",
      "         predicted> [0 0 0 0 0 0 0 0 0 0 0 0 0]\n",
      "     sample 2:\n",
      "         input    > [4 3 7 5 6 5 2 4 2 6 6 2]\n",
      "         predicted> [8 8 2 6 2 2 5 5 5 0 0 0 0]\n",
      "     sample 3:\n",
      "         input    > [8 3 3 3 8 4 3 4 0 0 0 0]\n",
      "         predicted> [0 0 0 0 0 0 0 0 0 0 0 0 0]\n",
      "\n",
      "batch 1000\n",
      "     minibatch loss: 0.07440381497144699\n",
      "     sample 1:\n",
      "         input    > [7 2 5 0 0 0 0 0 0 0 0 0]\n",
      "         predicted> [7 2 5 1 0 0 0 0 0 0 0 0 0]\n",
      "     sample 2:\n",
      "         input    > [8 2 4 3 7 4 6 8 0 0 0 0]\n",
      "         predicted> [8 2 4 3 7 4 6 8 1 0 0 0 0]\n",
      "     sample 3:\n",
      "         input    > [8 2 2 7 2 4 2 5 0 0 0 0]\n",
      "         predicted> [8 2 2 7 2 4 2 5 1 0 0 0 0]\n",
      "\n",
      "batch 2000\n",
      "     minibatch loss: 0.03168325498700142\n",
      "     sample 1:\n",
      "         input    > [4 3 3 4 8 0 0 0 0 0 0 0]\n",
      "         predicted> [4 3 3 4 8 1 0 0 0 0 0 0 0]\n",
      "     sample 2:\n",
      "         input    > [2 2 8 9 4 6 8 0 0 0 0 0]\n",
      "         predicted> [2 2 8 9 4 6 8 1 0 0 0 0 0]\n",
      "     sample 3:\n",
      "         input    > [4 9 2 9 7 6 2 6 8 9 6 7]\n",
      "         predicted> [4 9 2 7 7 6 2 6 8 9 6 9 1]\n",
      "\n",
      "batch 3000\n",
      "     minibatch loss: 0.020755372941493988\n",
      "     sample 1:\n",
      "         input    > [6 8 5 8 6 5 9 5 0 0 0 0]\n",
      "         predicted> [6 8 5 8 6 5 9 5 1 0 0 0 0]\n",
      "     sample 2:\n",
      "         input    > [3 7 4 4 5 7 5 3 6 4 0 0]\n",
      "         predicted> [3 7 4 4 5 7 5 3 6 4 1 0 0]\n",
      "     sample 3:\n",
      "         input    > [8 6 6 4 2 9 5 2 0 0 0 0]\n",
      "         predicted> [8 6 6 4 2 9 5 2 1 0 0 0 0]\n",
      "\n"
     ]
    }
   ],
   "source": [
    "with tf.Session() as sess:\n",
    "    sess.run(tf.global_variables_initializer())\n",
    "    for batch in range(max_batches):\n",
    "        encoder_inputs, decoder_inputs, decoder_targets, decoder_full_length = next_feed()\n",
    "        \n",
    "        train_op, loss, summary_op = seq2seq.update(sess, encoder_inputs, decoder_inputs, \n",
    "                                                    decoder_targets, decoder_full_length)\n",
    "        loss_track.append(loss)\n",
    "        \n",
    "        if batch == 0 or batch % batches_in_epoch == 0:\n",
    "            print('batch {}'.format(batch))\n",
    "            print('     minibatch loss: {}'.format(loss))\n",
    "            predict_ = seq2seq.predict(sess, encoder_inputs, decoder_inputs, decoder_full_length)\n",
    "        \n",
    "            for i, (inp, pred) in enumerate(zip(np.array(encoder_inputs).T, np.array(predict_).T)):\n",
    "                print('     sample {}:'.format(i +1))\n",
    "                print('         input    > {}'.format(inp))\n",
    "                print('         predicted> {}'.format(np.array(pred).T[0]))\n",
    "                if i >= 2:\n",
    "                    break;\n",
    "            print()"
   ]
  },
  {
   "cell_type": "code",
   "execution_count": 29,
   "metadata": {},
   "outputs": [
    {
     "data": {
      "text/plain": [
       "[<matplotlib.lines.Line2D at 0x7fe82c1a6be0>]"
      ]
     },
     "execution_count": 29,
     "metadata": {},
     "output_type": "execute_result"
    },
    {
     "data": {
      "image/png": "[encoded data removed]",
      "text/plain": [
       "<matplotlib.figure.Figure at 0x7fe82c272550>"
      ]
     },
     "metadata": {},
     "output_type": "display_data"
    }
   ],
   "source": [
    "plt.plot(loss_track)"
   ]
  }
 ],
 "metadata": {
  "kernelspec": {
   "display_name": "Python 3",
   "language": "python",
   "name": "python3"
  },
  "language_info": {
   "codemirror_mode": {
    "name": "ipython",
    "version": 3
   },
   "file_extension": ".py",
   "mimetype": "text/x-python",
   "name": "python",
   "nbconvert_exporter": "python",
   "pygments_lexer": "ipython3",
   "version": "3.5.4"
  }
 },
 "nbformat": 4,
 "nbformat_minor": 2
}
